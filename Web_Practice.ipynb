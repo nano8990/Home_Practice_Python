{
 "cells": [
  {
   "cell_type": "code",
   "execution_count": 175,
   "metadata": {},
   "outputs": [],
   "source": [
    "# 필요 라이브러리 호출\n",
    "import requests\n",
    "import pandas as pd\n",
    "import numpy as np\n",
    "import re\n",
    "from bs4 import BeautifulSoup\n",
    "from selenium import webdriver"
   ]
  },
  {
   "cell_type": "code",
   "execution_count": 2,
   "metadata": {},
   "outputs": [],
   "source": [
    "# 실패작\n",
    "searchKeyWord = \"\"\n",
    "searchWindowUrl = \"https://www.data.go.kr/search/index.do?index=OPENAPI&query=&currentPage=1&countPerPage=10\"\n",
    "searchWindowRequests = requests.get(searchWindowUrl)\n",
    "searchWindowText = searchWindowRequests.text\n",
    "\n",
    "searchWindowBeautify = BeautifulSoup(searchWindowText, 'lxml')\n",
    "\n",
    "searchWindowBeautify.select('#resultQuery')\n",
    "\n",
    "BeautifulSoup(requests.post(searchWindowUrl).text, 'lxml').select('#resultQuery')"
   ]
  },
  {
   "cell_type": "markdown",
   "metadata": {},
   "source": [
    "# URL 수집 자동화 프로젝트"
   ]
  },
  {
   "cell_type": "code",
   "execution_count": null,
   "metadata": {},
   "outputs": [],
   "source": [
    "# 데이터 목록 불러오기\n",
    "dataList = pd.read_csv(\"https://docs.google.com/spreadsheets/d/1VngqG-m7G8k1587c21MZoheR1Fz3amp1mJtiBvA1Jb0/export?format=csv&gid=0\")"
   ]
  },
  {
   "cell_type": "code",
   "execution_count": 223,
   "metadata": {
    "scrolled": true
   },
   "outputs": [],
   "source": [
    "# 원하는 행 조회(공공데이터포털, 한국감정원)\n",
    "publicDataPortal = dataList[(dataListConnectSite == '공공데이터포털') | (dataListConnectSite == '한국감정원')]\n",
    "\n",
    "# 원하는 컬럼 조회\n",
    "dataNameList = publicDataPortal['제공항목(데이터셋)'].tolist()\n",
    "originalSourceList = publicDataPortal['원본제공처'].tolist()"
   ]
  },
  {
   "cell_type": "code",
   "execution_count": 216,
   "metadata": {},
   "outputs": [],
   "source": [
    "# https://beomi.github.io/gb-crawling/posts/2017-02-27-HowToMakeWebCrawler-With-Selenium.html\n",
    "# 위 링크에 따라 크롬 드라이버 불러오기\n",
    "# (사용하고 있는 크롬의 버전에 맞는 드라이버를 다운받아서 경로 지정)\n",
    "driver = webdriver.Chrome('./chromedriver_win32/chromedriver.exe')"
   ]
  },
  {
   "cell_type": "code",
   "execution_count": 218,
   "metadata": {},
   "outputs": [],
   "source": [
    "# 로그인 주소에 접속\n",
    "driver.get('https://www.data.go.kr/subMain.jsp#/L2xvZ2luL2xvZ2luT3BlbiRAXjE3MW03MQ==')"
   ]
  },
  {
   "cell_type": "code",
   "execution_count": 219,
   "metadata": {},
   "outputs": [],
   "source": [
    "# 로그인 아이디 및 비밀번호 입력\n",
    "myId = 'nano8990'\n",
    "myPassword = 'ehdwnsdl1!'\n",
    "\n",
    "# 각 로그인 창에 입력된 아이디와 비밀번호 전송\n",
    "driver.find_element_by_id('ID_x').send_keys(myId)\n",
    "driver.find_element_by_id('PassWord_x').send_keys(myPassword)\n",
    "\n",
    "# 로그인 버튼 클릭\n",
    "driver.find_element_by_class_name('log').click()"
   ]
  },
  {
   "cell_type": "code",
   "execution_count": 220,
   "metadata": {},
   "outputs": [],
   "source": [
    "# 각종 변수 설정\n",
    "searchWindowUrl = 'https://www.data.go.kr/search/index.do'\n",
    "searchBoxId = 'resultQuery'\n",
    "searchButtonXpath = '//*[@onclick=\"javascript:resultQuerySearch()\"]'\n",
    "\n",
    "fileDataFormatDivisionTag = \"div #file-list-wrapper .data-item\"\n",
    "openApiFormatDivisionTag = 'div #openapiDivArea > div .data-item'\n",
    "\n",
    "dataNameTag = '<a href=\".*\">.*</a>'\n",
    "originalSourceSpanTag = '<span class=\"category-filter visible-desktop\">.*</span>'"
   ]
  },
  {
   "cell_type": "code",
   "execution_count": 221,
   "metadata": {},
   "outputs": [],
   "source": [
    "# 검색창 접속\n",
    "driver.get(searchWindowUrl)"
   ]
  },
  {
   "cell_type": "code",
   "execution_count": 224,
   "metadata": {},
   "outputs": [],
   "source": [
    "# 검색하고자 하는 정보(데이터명, 원본제공자) 입력\n",
    "eachDataName = dataNameList[1]\n",
    "eachOriginalSource = originalSourceList[1]\n",
    "\n",
    "# 검색창에 자료명 입력\n",
    "searchBox = driver.find_element_by_id(searchBoxId)\n",
    "searchBox.send_keys(eachDataName)"
   ]
  },
  {
   "cell_type": "code",
   "execution_count": 225,
   "metadata": {},
   "outputs": [],
   "source": [
    "# 검색버튼 클릭\n",
    "driver.find_element_by_xpath(searchButtonXpath).click()"
   ]
  },
  {
   "cell_type": "code",
   "execution_count": null,
   "metadata": {},
   "outputs": [],
   "source": [
    "# 검색 완료창의 정보 획득\n",
    "pageSource = driver.page_source\n",
    "beautifulPageSource = BeautifulSoup(pageSource, 'html.parser')"
   ]
  },
  {
   "cell_type": "markdown",
   "metadata": {},
   "source": [
    "## 파일 데이터 검색결과 처리"
   ]
  },
  {
   "cell_type": "code",
   "execution_count": 280,
   "metadata": {},
   "outputs": [],
   "source": [
    "# 검색 결과(파일 데이터)에서 자료명 위치 검색\n",
    "fileDataList = beautifulPageSource.select(fileDataFormatDivisionTag)\n",
    "searchList = []\n",
    "\n",
    "# 검색하고자 하는 정보를 담고 있는 태그를 컴파일\n",
    "compileKeyDataNameTag = re.compile(dataNameTag, re.DOTALL)\n",
    "compileKeyOriginalSource = re.compile(originalSourceSpanTag, re.DOTALL)\n",
    "\n",
    "# 검색하고자 하는 정보를 컴파일\n",
    "compileKeyDataName = re.compile(eachDataName)\n",
    "compileKeyOriginalSource = re.compile(eachOriginalSource)\n",
    "\n",
    "# 반복문을 돌린 후 파일데이터 존재여부 확인을 위해 None 설정\n",
    "searchIndex = None"
   ]
  },
  {
   "cell_type": "code",
   "execution_count": 285,
   "metadata": {
    "scrolled": false
   },
   "outputs": [],
   "source": [
    "# 검색된 파일 데이터 수 만큼 반복\n",
    "for j in range(0, len(fileDataList)):\n",
    "    # 파일 데이터의 페이지 소스를 String 타입으로 변환\n",
    "    fileDataStringType = str(fileDataList[j])\n",
    "    # 페이지 소스에서 데이터명을 담고 있는 태그 검색\n",
    "    dataNameTagSearchResult = compileKeyDataNameTag.search(fileDataStringType).group()\n",
    "    # 태그에서 검색하고자 하는 자료명 검색\n",
    "    if None != compileKeyDataName.search(dataNameTagSearchResult):\n",
    "        # 페이지 소스에서 원본제공자를 담고 있는 태그 검색\n",
    "        originalSourceSpanTagSearchResult = compileKeyOriginalSource.search(fileDataStringType).group()\n",
    "        # 태그에서 검색하고자 하는 원본제공자 검색\n",
    "        if None != compileKeyOriginalSource.search(originalSourceSpanTagSearchResult):\n",
    "            searchIndex = j\n",
    "            break"
   ]
  },
  {
   "cell_type": "markdown",
   "metadata": {},
   "source": [
    "## 오픈 API 검색결과 처리"
   ]
  },
  {
   "cell_type": "code",
   "execution_count": 163,
   "metadata": {
    "scrolled": false
   },
   "outputs": [
    {
     "data": {
      "text/plain": [
       "[<div class=\"data-item\">\n",
       " <span class=\"category-filter visible-desktop\">\n",
       "                                                     \n",
       "                                                         \n",
       "                                                         \n",
       "                                                             국토관리\n",
       "                                                         \n",
       "                                                     \n",
       "                                                 </span>\n",
       " <div class=\"data-title\">\n",
       " <a href=\"/dataset/15002266/openapi.do\">\n",
       "                                                             한국감정원 부동산 매매가격지수 현황\n",
       "                                                     </a>\n",
       " <span>조회수 : 666</span>\n",
       " <span>활용신청건수 : 98</span>\n",
       " <span class=\"category-filter visible-mobile\">\n",
       "                                                         \n",
       "                                                             \n",
       "                                                             \n",
       "                                                                 국토관리\n",
       "                                                             \n",
       "                                                         \n",
       "                                                     </span>\n",
       " </div>\n",
       " <div class=\"data-meta\">\n",
       " <span>수정일 : 2018.04.24</span><span>기관 : 한국감정원</span>\n",
       " <br class=\"visible-mobile\"/>\n",
       " <span>서비스유형 : REST</span>\n",
       " </div>\n",
       " <div class=\"data-desc\">\n",
       "                                                     부동산의 유형별로 월간, 주간 매매가격지수를 조사한 데이터\n",
       "                                                 </div>\n",
       " <div class=\"data-types\">\n",
       " <span class=\"data-type XML\">XML</span>\n",
       " </div>\n",
       " </div>]"
      ]
     },
     "execution_count": 163,
     "metadata": {},
     "output_type": "execute_result"
    }
   ],
   "source": [
    "soup.select(openApiFormatDivisionTag)"
   ]
  },
  {
   "cell_type": "code",
   "execution_count": null,
   "metadata": {},
   "outputs": [],
   "source": []
  }
 ],
 "metadata": {
  "kernelspec": {
   "display_name": "Python 3",
   "language": "python",
   "name": "python3"
  },
  "language_info": {
   "codemirror_mode": {
    "name": "ipython",
    "version": 3
   },
   "file_extension": ".py",
   "mimetype": "text/x-python",
   "name": "python",
   "nbconvert_exporter": "python",
   "pygments_lexer": "ipython3",
   "version": "3.7.1"
  }
 },
 "nbformat": 4,
 "nbformat_minor": 2
}
